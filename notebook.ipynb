{
 "cells": [
  {
   "cell_type": "code",
   "execution_count": 66,
   "metadata": {},
   "outputs": [],
   "source": [
    "import os\n",
    "os.environ[\"NEO4J_URI\"] = os.environ.get(\"NEO4J_URI\")\n",
    "os.environ[\"NEO4J_USERNAME\"] = os.environ.get(\"NEO4J_USERNAME\")\n",
    "os.environ[\"NEO4J_PASSWORD\"] = os.environ.get(\"NEO4J_PASSWORD\")"
   ]
  },
  {
   "cell_type": "code",
   "execution_count": null,
   "metadata": {},
   "outputs": [
    {
     "name": "stdout",
     "output_type": "stream",
     "text": [
      "True\n"
     ]
    }
   ],
   "source": [
    "from langchain_neo4j import Neo4jGraph\n",
    "from langchain_openai import ChatOpenAI\n",
    "\n",
    "# graph = Neo4jGraph(url=NEO4J_URI, username=NEO4J_USERNAME, password=NEO4J_PASSWORD)\n",
    "graph = Neo4jGraph()\n",
    "graph\n",
    "print(isinstance(graph, Neo4jGraph))\n"
   ]
  },
  {
   "cell_type": "code",
   "execution_count": 68,
   "metadata": {},
   "outputs": [
    {
     "data": {
      "text/plain": [
       "[]"
      ]
     },
     "execution_count": 68,
     "metadata": {},
     "output_type": "execute_result"
    }
   ],
   "source": [
    "graph.query(\n",
    "    \"\"\"\n",
    "LOAD CSV WITH HEADERS FROM \"https://raw.githubusercontent.com/tomasonjo/blog-datasets/main/movies/movies_small.csv\" AS row\n",
    "MERGE(m:Movies{id:row.movieId}) \n",
    "SET m.released = date(row.released),\n",
    "    m.title = row.title,\n",
    "    m.imdbRating = toInteger(row.imdbRating)  \n",
    "FOREACH (director in split(row.director,'|')|\n",
    "    MERGE (p:Person{name:trim(director)})\n",
    "    MERGE(p)-[:DIRECTED]->(m))\n",
    "FOREACH (genere in split(row.genres,'|')|\n",
    "    MERGE(g:Genere{name:trim(genere)})\n",
    "    MERGE(g)-[:IN_GENERE]->(m))\n",
    "FOREACH(actor in split(row.actors,'|')|\n",
    "    MERGE(a:Genere{name:trim(actor)})\n",
    "    MERGE(a)-[:ACTED_IN]->(m))\n",
    "\"\"\"\n",
    ")"
   ]
  },
  {
   "cell_type": "code",
   "execution_count": 75,
   "metadata": {},
   "outputs": [
    {
     "name": "stdout",
     "output_type": "stream",
     "text": [
      "\n",
      "\n",
      "\u001b[1m> Entering new GraphCypherQAChain chain...\u001b[0m\n",
      "Generated Cypher:\n",
      "\u001b[32;1m\u001b[1;3mcypher\n",
      "MATCH (director:Person)-[:DIRECTED]->(movie:Movies {title: \"Waiting to Exhale\"})\n",
      "RETURN director.name AS Director\n",
      "\u001b[0m\n",
      "Full Context:\n",
      "\u001b[32;1m\u001b[1;3m[{'Director': 'Forest Whitaker'}]\u001b[0m\n",
      "\n",
      "\u001b[1m> Finished chain.\u001b[0m\n"
     ]
    },
    {
     "data": {
      "text/plain": [
       "'Forest Whitaker is the director of the movie Waiting to Exhale.'"
      ]
     },
     "execution_count": 75,
     "metadata": {},
     "output_type": "execute_result"
    }
   ],
   "source": [
    "from langchain_neo4j import GraphCypherQAChain\n",
    "\n",
    "chain = GraphCypherQAChain.from_llm(\n",
    "    llm=ChatOpenAI(model=\"gpt-4o\"), graph=graph, verbose=True,allow_dangerous_requests=True\n",
    ")\n",
    "response = chain.run({\"query\",\"tell me Who is the director of the movie Waiting to Exhale from your context\"})\n",
    "response\n"
   ]
  }
 ],
 "metadata": {
  "kernelspec": {
   "display_name": "venv",
   "language": "python",
   "name": "python3"
  },
  "language_info": {
   "codemirror_mode": {
    "name": "ipython",
    "version": 3
   },
   "file_extension": ".py",
   "mimetype": "text/x-python",
   "name": "python",
   "nbconvert_exporter": "python",
   "pygments_lexer": "ipython3",
   "version": "3.12.0"
  }
 },
 "nbformat": 4,
 "nbformat_minor": 2
}
